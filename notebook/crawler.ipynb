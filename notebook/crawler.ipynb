{
  "nbformat": 4,
  "nbformat_minor": 0,
  "metadata": {
    "colab": {
      "name": "crawler.ipynb",
      "provenance": [],
      "collapsed_sections": []
    },
    "kernelspec": {
      "name": "python3",
      "display_name": "Python 3"
    },
    "language_info": {
      "name": "python"
    }
  },
  "cells": [
    {
      "cell_type": "markdown",
      "metadata": {
        "id": "Uuba3K6JZVYc"
      },
      "source": [
        "# Crawler wirtten by Quentin"
      ]
    },
    {
      "cell_type": "code",
      "metadata": {
        "colab": {
          "base_uri": "https://localhost:8080/"
        },
        "id": "_UsSCvqpVBLc",
        "outputId": "7c6cc6ed-4809-4b43-fb74-e6fe98d9f1a2"
      },
      "source": [
        "from bs4 import BeautifulSoup\n",
        "from urllib.request import urlopen\n",
        "import csv\n",
        "\n",
        "with open('Dataset_EN.csv', 'rt', newline='') as csvfile:\n",
        "  reader = csv.reader(csvfile)\n",
        "  column = [row[7] for row in reader]\n",
        "for url in range(1, 5):\n",
        "  html = urlopen(column[url])\n",
        "  soup = BeautifulSoup(html.read())\n",
        "  for x in range(22):\n",
        "    print(soup.select(\"td\")[x].get_text())"
      ],
      "execution_count": 3,
      "outputs": [
        {
          "output_type": "stream",
          "text": [
            "館藏編目號碼\n",
            "002300215\n",
            "索書號\n",
            "F ALB\n",
            "著者\n",
            "Albom, Mitch, 1958-\n",
            "版次\n",
            "1st ed.\n",
            "著錄\n",
            "196 p. ; 20 cm.\n",
            "出版地\n",
            "New York :\n",
            "出版者\n",
            "Hyperion,\n",
            "出版年份\n",
            "c2003.\n",
            "主題\n",
            "Accident victims -- Fiction.Amusement parks -- Fiction.Amusement rides -- Fiction.Future life -- Fiction.Older men -- Fiction.Heaven -- Fiction.Death -- Fiction.\n",
            "標準號碼\n",
            "0786868716 (alk. paper)\n",
            "語言\n",
            "英語\n",
            "館藏編目號碼\n",
            "003524485\n",
            "索書號\n",
            "F ALB\n",
            "著者\n",
            "Albom, Mitch, 1958-\n",
            "版次\n",
            "First edition.\n",
            "著錄\n",
            "213 pages ; 20 cm.\n",
            "出版地\n",
            "New York :\n",
            "出版者\n",
            "Harper,\n",
            "出版年份\n",
            "©2018.\n",
            "主題\n",
            "Accident victims -- Fiction.Amusement parks -- Fiction.Amusement rides -- Fiction.Future life -- Fiction.Older men -- Fiction.Heaven -- Fiction.Death -- Fiction.\n",
            "標準號碼\n",
            "9780062294449\n",
            "附註\n",
            "\"The sequel to The five people you meet in Heaven\"--Title page.\"A novel\"--Jacket.\n",
            "館藏編目號碼\n",
            "003395449\n",
            "索書號\n",
            "F ORW\n",
            "著者\n",
            "Orwell, George, 1903-1950.\n",
            "著錄\n",
            "114 p. : ill. ; 20 cm.\n",
            "出版地\n",
            "[London] :\n",
            "出版者\n",
            "Penguin Classics,\n",
            "出版年份\n",
            "2015.\n",
            "叢書名\n",
            "Penguin classics\n",
            "主題\n",
            "Political corruption -- Fiction.Totalitarianism -- Fiction.Domestic animals -- Fiction.Classical fiction.\n",
            "其他著者\n",
            "Batchelor, Joy, 1914-1991.Halas, John.\n",
            "書刊別名\n",
            "Illustrated animal farm\n",
            "館藏編目號碼\n",
            "003239705\n",
            "索書號\n",
            "F TOL\n",
            "著者\n",
            "Tolkien, J. R. R. (John Ronald Reuel), 1892-1973.\n",
            "版次\n",
            "1st Mariner Books ed., 75th anniversary ed.\n",
            "著錄\n",
            "300 p. : maps ; 21 cm.\n",
            "出版地\n",
            "Boston :\n",
            "出版者\n",
            "Mariner Books/Houghton Mifflin Harcourt,\n",
            "出版年份\n",
            "2012, c1995.\n",
            "主題\n",
            "Baggins, Frodo -- Fiction.Middle Earth (Imaginary place) -- Fiction.\n",
            "書刊別名\n",
            "There and back again\n",
            "標準號碼\n",
            "9780547928227 (pbk.)\n"
          ],
          "name": "stdout"
        }
      ]
    }
  ]
}