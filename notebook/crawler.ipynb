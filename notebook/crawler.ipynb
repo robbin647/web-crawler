{
  "nbformat": 4,
  "nbformat_minor": 0,
  "metadata": {
    "colab": {
      "name": "crawler.ipynb",
      "provenance": [],
      "collapsed_sections": [],
      "authorship_tag": "ABX9TyMW2tgy+72OvRtq7pD0G5Er"
    },
    "kernelspec": {
      "name": "python3",
      "display_name": "Python 3"
    },
    "language_info": {
      "name": "python"
    }
  },
  "cells": [
    {
      "cell_type": "markdown",
      "metadata": {
        "id": "Uuba3K6JZVYc"
      },
      "source": [
        "# Crawler wirtten by Quentin"
      ]
    },
    {
      "cell_type": "code",
      "metadata": {
        "id": "_UsSCvqpVBLc"
      },
      "source": [
        "from bs4 import BeautifulSoup\n",
        "from urllib.request import urlopen\n",
        "import csv\n",
        "\n",
        "with open('Dataset_EN.csv', 'rt', newline='') as csvfile:\n",
        "  reader = csv.reader(csvfile)\n",
        "  column = [row[7] for row in reader]\n",
        "\n",
        "\n",
        "'''testing: use a smaller range '''\n",
        "for url in range(1,5):\n",
        "\n",
        "  html = urlopen(column[url])\n",
        "  soup = BeautifulSoup(html.read())\n",
        "  for x in range(22):\n",
        "    print(soup.select(\"td\")[x].get_text())"
      ],
      "execution_count": null,
      "outputs": []
    },
    {
      "cell_type": "code",
      "metadata": {
        "id": "h0LY-oq8s1oc"
      },
      "source": [
        "!pip install scrapy\n",
        "import scrapy"
      ],
      "execution_count": null,
      "outputs": []
    },
    {
      "cell_type": "code",
      "metadata": {
        "id": "XqlhnYc8iJfw"
      },
      "source": [
        "''' The below is added by Robbin '''\n",
        "import re\n",
        "\n",
        "with open('Dataset_EN.csv', 'rt', newline='') as csvfile:\n",
        "  reader = csv.reader(csvfile)\n",
        "  for row in reader:\n",
        "    ExtractedURL = re.escape(row[7])\n",
        "    "
      ],
      "execution_count": null,
      "outputs": []
    }
  ]
}